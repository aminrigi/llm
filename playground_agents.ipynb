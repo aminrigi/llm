{
 "cells": [
  {
   "cell_type": "code",
   "execution_count": 1,
   "id": "14fd7cf4",
   "metadata": {},
   "outputs": [
    {
     "name": "stderr",
     "output_type": "stream",
     "text": [
      "Device set to use cpu\n"
     ]
    }
   ],
   "source": [
    "from langchain.agents import AgentType\n",
    "import re\n",
    "from transformers import AutoModelForSeq2SeqLM, AutoTokenizer, pipeline\n",
    "from langchain_huggingface import HuggingFacePipeline\n",
    "\n",
    "MODEL_NAME = \"google/flan-t5-large\"\n",
    "\n",
    "\n",
    "llm_transformers_pipeline = pipeline(\n",
    "    \"text2text-generation\",\n",
    "    model=AutoModelForSeq2SeqLM.from_pretrained(MODEL_NAME),\n",
    "    tokenizer=AutoTokenizer.from_pretrained(MODEL_NAME),\n",
    "    max_new_tokens=200,\n",
    ")\n",
    "\n",
    "llm = HuggingFacePipeline(pipeline=llm_transformers_pipeline)"
   ]
  },
  {
   "cell_type": "code",
   "execution_count": 4,
   "id": "eaeff4a0",
   "metadata": {},
   "outputs": [
    {
     "name": "stdout",
     "output_type": "stream",
     "text": [
      "computer scientist\n"
     ]
    }
   ],
   "source": [
    "response =  llm.invoke(\"who is Bill Gates?\")\n",
    "print(response)"
   ]
  },
  {
   "cell_type": "markdown",
   "id": "8ca294af",
   "metadata": {},
   "source": [
    "## Function\n",
    "\n",
    "In AI, a **tool** will call a basic **function** or capability that can be called on to perform a specific task. Think of it like a single item in a toolbox: just like a hammer, screwdriver, or wrench, an AI toolbox is full of specific functions designed to solve problems or get things done.\n",
    "\n",
    "When building tools for tool calling, there are a few key principles to keep in mind:\n",
    "\n",
    "1. **Clear purpose**: Make sure the tool has a well-defined job.\n",
    "2. **Standardized input**: The tool should accept input in a predictable, structured format so it’s easy to use.\n",
    "3. **Consistent output**: Always return results in a format that’s easy to process or integrate with other systems.\n",
    "4. **Comprehensive documentation**: Your tool should include clear, simple documentation that explains what it does, how to use it, and any quirks or limitations.\n",
    "\n",
    "Remember, documentation isn’t just for other developers—it’s also for the language model (LLM) to understand the tool’s purpose and how to use it effectively.\n",
    "\n",
    "For this example, you’ll start with a simple tool to add numbers. It’ll check off most of the basic requirements, but one key limitation is that it doesn’t handle **basic error cases**, like ignoring non-numeric input. Improving error handling will make the tool much more robust and ready for real-world use.\n",
    "\n",
    "## Improved tool return types with Python typing\n",
    "\n",
    "When creating tools, you must accurately specify their return values. This helps the agent understand and handle different possible outputs.\n",
    "\n"
   ]
  },
  {
   "cell_type": "code",
   "execution_count": 5,
   "id": "bad0e5eb",
   "metadata": {},
   "outputs": [
    {
     "name": "stdout",
     "output_type": "stream",
     "text": [
      "add_numbers Adds a list of numbers provided in the input string.\n",
      "Parameters:\n",
      "- inputs (str): string containing numbers that can be extracted and summed.\n",
      "Returns:\n",
      "- str: The sum of the numbers found in the input string.\n",
      "Example Input: \"Add the numbers 10, 20, and 30.\"\n",
      "Example Output: \"60\" {'inputs': {'title': 'Inputs', 'type': 'string'}}\n",
      "60\n"
     ]
    }
   ],
   "source": [
    "'''def add_numbers(inputs:str) -> dict:\n",
    "    \"\"\"\n",
    "    Adds a list of numbers provided in the input dictionary or extracts numbers from a string.\n",
    "\n",
    "    Parameters:\n",
    "    - inputs (str): \n",
    "    string, it should contain numbers that can be extracted and summed.\n",
    "\n",
    "    Returns:\n",
    "    - dict: A dictionary with a single key \"result\" containing the sum of the numbers.\n",
    "\n",
    "    Example Input (Dictionary):\n",
    "    {\"numbers\": [10, 20, 30]}\n",
    "\n",
    "    Example Input (String):\n",
    "    \"Add the numbers 10, 20, and 30.\"\n",
    "\n",
    "    Example Output:\n",
    "    {\"result\": 60}\n",
    "    \"\"\"\n",
    "    numbers = [int(x) for x in inputs.replace(\",\", \"\").split() if x.isdigit()]\n",
    "\n",
    "    \n",
    "    result = sum(numbers)\n",
    "    return {\"result\": result}\n",
    "\n",
    "\n",
    "from langchain.agents import Tool\n",
    "add_tool = Tool(\n",
    "    name=\"AddTool\",\n",
    "    func=add_numbers,\n",
    "    description=\"Adds a list of numbers provided in the input dictionary or extracts numbers from a string.\"\n",
    ")\n",
    "\n",
    "'''\n",
    "\n",
    "# Option 2: using @tool decorator (RECOMMENDED)\n",
    "\n",
    "from langchain_core.tools import tool\n",
    "import re\n",
    "from typing import Dict, Union\n",
    "\n",
    "@tool\n",
    "def add_numbers(inputs: str) -> str:\n",
    "    \"\"\"\n",
    "    Adds a list of numbers provided in the input string.\n",
    "    Parameters:\n",
    "    - inputs (str): string containing numbers that can be extracted and summed.\n",
    "    Returns:\n",
    "    - str: The sum of the numbers found in the input string.\n",
    "    Example Input: \"Add the numbers 10, 20, and 30.\"\n",
    "    Example Output: \"60\"\n",
    "    \"\"\"\n",
    "    # Use regular expressions to extract all numbers from the input\n",
    "    numbers_found = re.findall(r'\\d+', inputs)\n",
    "    if not numbers_found:\n",
    "        return \"No numbers found in the input.\"\n",
    "    try:\n",
    "        numbers = [int(num) for num in numbers_found]\n",
    "        result = sum(numbers)\n",
    "        return str(result)\n",
    "    except Exception as e:\n",
    "        return f\"Error during summation: {str(e)}\"\n",
    "\n",
    "\n",
    "\n",
    "print(add_numbers.name, add_numbers.description, add_numbers.args)\n",
    "print( add_numbers.invoke(\"Sum the numbers 10, 20, and 30.\"))"
   ]
  },
  {
   "cell_type": "code",
   "execution_count": 6,
   "id": "ba53348c",
   "metadata": {},
   "outputs": [],
   "source": [
    "@tool\n",
    "def search_wikipedia(term: str) -> str:\n",
    "    \"\"\"\n",
    "    Searches Wikipedia for the given query and returns the summary.\n",
    "    \n",
    "    Parameters:\n",
    "    - term (str): The search term to look up on Wikipedia.\n",
    "    \n",
    "    Returns:\n",
    "    - str: Wikipedia summary of the search term.\n",
    "    \n",
    "    Example Input: \"Python programming language\"\n",
    "    Example Output: \"Python is an interpreted, high-level, general-purpose programming language.\"\n",
    "    \"\"\"\n",
    "    import wikipedia\n",
    "    try:\n",
    "        summary = wikipedia.summary(term, sentences=3)\n",
    "        return summary\n",
    "    except Exception as e:\n",
    "        return f\"Error fetching summary from Wikipedia: {str(e)}\"\n",
    "\n",
    "#print(search_wikipedia.invoke(\"war\"))"
   ]
  },
  {
   "cell_type": "code",
   "execution_count": 7,
   "id": "78e4ff03",
   "metadata": {},
   "outputs": [
    {
     "data": {
      "text/plain": [
       "[StructuredTool(name='add_numbers', description='Adds a list of numbers provided in the input string.\\nParameters:\\n- inputs (str): string containing numbers that can be extracted and summed.\\nReturns:\\n- str: The sum of the numbers found in the input string.\\nExample Input: \"Add the numbers 10, 20, and 30.\"\\nExample Output: \"60\"', args_schema=<class 'langchain_core.utils.pydantic.add_numbers'>, func=<function add_numbers at 0x0000014D20BA9120>),\n",
       " StructuredTool(name='search_wikipedia', description='Searches Wikipedia for the given query and returns the summary.\\n\\nParameters:\\n- term (str): The search term to look up on Wikipedia.\\n\\nReturns:\\n- str: Wikipedia summary of the search term.\\n\\nExample Input: \"Python programming language\"\\nExample Output: \"Python is an interpreted, high-level, general-purpose programming language.\"', args_schema=<class 'langchain_core.utils.pydantic.search_wikipedia'>, func=<function search_wikipedia at 0x0000014D20BA93A0>)]"
      ]
     },
     "execution_count": 7,
     "metadata": {},
     "output_type": "execute_result"
    }
   ],
   "source": [
    "tools = [add_numbers, search_wikipedia]\n",
    "tools"
   ]
  },
  {
   "cell_type": "code",
   "execution_count": null,
   "id": "6a28b10d",
   "metadata": {},
   "outputs": [],
   "source": [
    "from langchain.agents import initialize_agent\n",
    "\n",
    "agent = initialize_agent(\n",
    "    tools=tools,\n",
    "    llm=llm,\n",
    "    agent = AgentType.ZERO_SHOT_REACT_DESCRIPTION,\n",
    "    verbose = True,\n",
    "\n",
    ")"
   ]
  },
  {
   "cell_type": "code",
   "execution_count": null,
   "metadata": {},
   "outputs": [],
   "source": []
  },
  {
   "cell_type": "markdown",
   "id": "ba0ed0f5",
   "metadata": {},
   "source": [
    "### `initialize_agent`\n",
    "\n",
    "When you set up an agent, you're connecting tools and an LLM to work together seamlessly. The agent uses the LLM to understand what needs to be done and decides which tool to use based on the task. Here's a simple overview of the key parts:\n",
    "\n",
    "\n",
    "#### **Relationship between agent and LLM**\n",
    "- The **agent** acts as the decision-maker, figuring out which tools to use and when.\n",
    "- The **LLM** is the reasoning engine. It:\n",
    "  - Interprets the user's input.\n",
    "  - Helps the agent make decisions.\n",
    "  - Generates a response based on the output of the tools.\n",
    "\n",
    "Think of the agent as the manager assigning tasks and the LLM as the brain solving problems or delegating work.\n",
    "\n",
    "---\n",
    "\n",
    "#### **Key parameters of `initialize_agent`**\n",
    "\n",
    "1. **`tools`**- see above \n",
    "\n",
    "2.  **`llm`** see above \n",
    "\n",
    "3. **`agent`**:\n",
    "   - Specifies the reasoning framework for the agent.\n",
    "   - `\"zero-shot-react-description\"` enables:\n",
    "     - **Zero-shot reasoning**: The agent can solve tasks it hasn't seen before by thinking through the problem step by step.\n",
    "     - **React framework**: A logical loop of:\n",
    "       - **Reason** → Think about the task.\n",
    "       - **Act** → Use a tool to perform an action.\n",
    "       - **Observe** → Check the tool's output.\n",
    "       - **Plan** → Decide what to do next.\n",
    "\n",
    "4. **`verbose`**:\n",
    "   - If `True`, it prints detailed logs of the agent’s thought process.\n",
    "   - Useful for debugging or understanding how the agent makes decisions.\n"
   ]
  },
  {
   "cell_type": "code",
   "execution_count": 37,
   "id": "35f6075d",
   "metadata": {},
   "outputs": [],
   "source": [
    "from langchain.agents import initialize_agent\n",
    "\n",
    "agent = initialize_agent([search_wikipedia], llm, agent_type=AgentType.ZERO_SHOT_REACT_DESCRIPTION, verbose=True, handle_parsing_errors=True)"
   ]
  },
  {
   "cell_type": "code",
   "execution_count": 36,
   "id": "135e4a3e",
   "metadata": {},
   "outputs": [
    {
     "name": "stdout",
     "output_type": "stream",
     "text": [
      "\n",
      "\n",
      "\u001b[1m> Entering new AgentExecutor chain...\u001b[0m\n"
     ]
    },
    {
     "ename": "ValueError",
     "evalue": "Missing some input keys: {'\"summary\"', '\"result\"'}",
     "output_type": "error",
     "traceback": [
      "\u001b[31m---------------------------------------------------------------------------\u001b[39m",
      "\u001b[31mValueError\u001b[39m                                Traceback (most recent call last)",
      "\u001b[36mCell\u001b[39m\u001b[36m \u001b[39m\u001b[32mIn[36]\u001b[39m\u001b[32m, line 1\u001b[39m\n\u001b[32m----> \u001b[39m\u001b[32m1\u001b[39m \u001b[43magent\u001b[49m\u001b[43m.\u001b[49m\u001b[43minvoke\u001b[49m\u001b[43m(\u001b[49m\u001b[43m{\u001b[49m\u001b[33;43m\"\u001b[39;49m\u001b[33;43minput\u001b[39;49m\u001b[33;43m\"\u001b[39;49m\u001b[43m:\u001b[49m\u001b[43m \u001b[49m\u001b[33;43m\"\u001b[39;49m\u001b[33;43mWhat is the sum of 10, 20, and 30? Also, can you tell me about the Python programming language?\u001b[39;49m\u001b[33;43m\"\u001b[39;49m\u001b[43m}\u001b[49m\u001b[43m)\u001b[49m\n",
      "\u001b[36mFile \u001b[39m\u001b[32mc:\\code\\projects\\gr\\.venv\\Lib\\site-packages\\langchain\\chains\\base.py:167\u001b[39m, in \u001b[36mChain.invoke\u001b[39m\u001b[34m(self, input, config, **kwargs)\u001b[39m\n\u001b[32m    165\u001b[39m \u001b[38;5;28;01mexcept\u001b[39;00m \u001b[38;5;167;01mBaseException\u001b[39;00m \u001b[38;5;28;01mas\u001b[39;00m e:\n\u001b[32m    166\u001b[39m     run_manager.on_chain_error(e)\n\u001b[32m--> \u001b[39m\u001b[32m167\u001b[39m     \u001b[38;5;28;01mraise\u001b[39;00m e\n\u001b[32m    168\u001b[39m run_manager.on_chain_end(outputs)\n\u001b[32m    170\u001b[39m \u001b[38;5;28;01mif\u001b[39;00m include_run_info:\n",
      "\u001b[36mFile \u001b[39m\u001b[32mc:\\code\\projects\\gr\\.venv\\Lib\\site-packages\\langchain\\chains\\base.py:155\u001b[39m, in \u001b[36mChain.invoke\u001b[39m\u001b[34m(self, input, config, **kwargs)\u001b[39m\n\u001b[32m    148\u001b[39m run_manager = callback_manager.on_chain_start(\n\u001b[32m    149\u001b[39m     \u001b[38;5;28;01mNone\u001b[39;00m,\n\u001b[32m    150\u001b[39m     inputs,\n\u001b[32m    151\u001b[39m     run_id,\n\u001b[32m    152\u001b[39m     name=run_name,\n\u001b[32m    153\u001b[39m )\n\u001b[32m    154\u001b[39m \u001b[38;5;28;01mtry\u001b[39;00m:\n\u001b[32m--> \u001b[39m\u001b[32m155\u001b[39m     \u001b[38;5;28;43mself\u001b[39;49m\u001b[43m.\u001b[49m\u001b[43m_validate_inputs\u001b[49m\u001b[43m(\u001b[49m\u001b[43minputs\u001b[49m\u001b[43m)\u001b[49m\n\u001b[32m    156\u001b[39m     outputs = (\n\u001b[32m    157\u001b[39m         \u001b[38;5;28mself\u001b[39m._call(inputs, run_manager=run_manager)\n\u001b[32m    158\u001b[39m         \u001b[38;5;28;01mif\u001b[39;00m new_arg_supported\n\u001b[32m    159\u001b[39m         \u001b[38;5;28;01melse\u001b[39;00m \u001b[38;5;28mself\u001b[39m._call(inputs)\n\u001b[32m    160\u001b[39m     )\n\u001b[32m    162\u001b[39m     final_outputs: \u001b[38;5;28mdict\u001b[39m[\u001b[38;5;28mstr\u001b[39m, Any] = \u001b[38;5;28mself\u001b[39m.prep_outputs(\n\u001b[32m    163\u001b[39m         inputs, outputs, return_only_outputs\n\u001b[32m    164\u001b[39m     )\n",
      "\u001b[36mFile \u001b[39m\u001b[32mc:\\code\\projects\\gr\\.venv\\Lib\\site-packages\\langchain\\chains\\base.py:287\u001b[39m, in \u001b[36mChain._validate_inputs\u001b[39m\u001b[34m(self, inputs)\u001b[39m\n\u001b[32m    285\u001b[39m missing_keys = \u001b[38;5;28mset\u001b[39m(\u001b[38;5;28mself\u001b[39m.input_keys).difference(inputs)\n\u001b[32m    286\u001b[39m \u001b[38;5;28;01mif\u001b[39;00m missing_keys:\n\u001b[32m--> \u001b[39m\u001b[32m287\u001b[39m     \u001b[38;5;28;01mraise\u001b[39;00m \u001b[38;5;167;01mValueError\u001b[39;00m(\u001b[33mf\u001b[39m\u001b[33m\"\u001b[39m\u001b[33mMissing some input keys: \u001b[39m\u001b[38;5;132;01m{\u001b[39;00mmissing_keys\u001b[38;5;132;01m}\u001b[39;00m\u001b[33m\"\u001b[39m)\n",
      "\u001b[31mValueError\u001b[39m: Missing some input keys: {'\"summary\"', '\"result\"'}"
     ]
    }
   ],
   "source": [
    "agent.invoke({\"input\": \"What is the sum of 10, 20, and 30? Also, can you tell me about the Python programming language?\"})"
   ]
  }
 ],
 "metadata": {
  "kernelspec": {
   "display_name": ".venv",
   "language": "python",
   "name": "python3"
  },
  "language_info": {
   "codemirror_mode": {
    "name": "ipython",
    "version": 3
   },
   "file_extension": ".py",
   "mimetype": "text/x-python",
   "name": "python",
   "nbconvert_exporter": "python",
   "pygments_lexer": "ipython3",
   "version": "3.12.0"
  }
 },
 "nbformat": 4,
 "nbformat_minor": 5
}
