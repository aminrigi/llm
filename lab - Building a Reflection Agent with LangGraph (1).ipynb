{
 "cells": [
  {
   "cell_type": "markdown",
   "metadata": {},
   "source": [
    "<p style=\"text-align:center\">\n",
    "    <a href=\"https://skills.network\" target=\"_blank\">\n",
    "    <img src=\"https://cf-courses-data.s3.us.cloud-object-storage.appdomain.cloud/assets/logos/SN_web_lightmode.png\" width=\"200\" alt=\"Skills Network Logo\"  />\n",
    "    </a>\n",
    "</p>\n"
   ]
  },
  {
   "cell_type": "markdown",
   "metadata": {},
   "source": [
    "# **Building a Reflection Agent with LangGraph**\n"
   ]
  },
  {
   "cell_type": "markdown",
   "metadata": {},
   "source": [
    "Estimated time needed: **45** minutes\n"
   ]
  },
  {
   "cell_type": "markdown",
   "metadata": {},
   "source": [
    "In this guided project, you'll learn to build Reflection agents using LangGraph, a powerful tool for creating self-improving AI systems. Reflection agents represent a significant advancement in AI capabilities - they can evaluate their own outputs, identify weaknesses, and iteratively improve through feedback loops. You'll start by understanding the concept of reflection in AI, then build a complete reflection agent that can generate content, evaluate its quality, and refine outputs through multiple iterations. Working with a LinkedIn post generator as your example, you'll implement a graph-based workflow that mimics human-like reflective thinking, enabling the agent to transform basic content into polished, engaging outputs. By the end of this project, you'll have hands-on experience creating AI systems that can think critically about their own work and continuously improve their performance.\n"
   ]
  },
  {
   "cell_type": "markdown",
   "metadata": {},
   "source": [
    "## __Table of Contents__\n",
    "\n",
    "<ol>\n",
    "    <li><a href=\"#Objectives\">Objectives</a></li>\n",
    "    <li>\n",
    "        <a href=\"#Setup\">Setup</a>\n",
    "        <ol>\n",
    "            <li><a href=\"#Installing-Required-Libraries\">Installing Required Libraries</a></li>\n",
    "        </ol>\n",
    "    </li>\n",
    "    <li>\n",
    "        <a href=\"#What-is-Reflection?\">What is Reflection?</a>\n",
    "    </li>\n",
    "    <li>\n",
    "        <a href=\"#Workflow-of-Reflection-Agent-in-LangGraph:\">Workflow of Reflection Agent in LangGraph</a>\n",
    "    </li>\n",
    "    <li>\n",
    "        <a href=\"#Building-an-Optimized-LinkedIn-Post-Generator-with-a-Reflection-Agent\">Building an Optimized LinkedIn Post Generator with a Reflection Agent</a>\n",
    "        <ol>\n",
    "            <li><a href=\"#Instantiating-the-Language-Model\">Instantiating the Language Model</a></li>\n",
    "            <li><a href=\"#Generation-Prompt-for-Posts\">Generation Prompt for Posts</a></li>\n",
    "            <li><a href=\"#Creating-the-Chain-for-LinkedIn-Post-Generation\">Creating the Chain for LinkedIn Post Generation</a></li>\n",
    "            <li><a href=\"#Reflection-Prompt-for-LinkedIn-Post-Critique\">Reflection Prompt for LinkedIn Post Critique</a></li>\n",
    "            <li><a href=\"#Creating-the-Reflect-Chain\">Creating the Reflect Chain</a></li>\n",
    "            <li><a href=\"#Defining-the-Agent-State-for-Reflection-Agent\">Defining the Agent State for Reflection Agent</a></li>\n",
    "            <li><a href=\"#Defining-the-Generation-and-Reflection--Node\">Defining the Generation and Reflection Node</a></li>\n",
    "            <li><a href=\"#Why-HumanMessage?\">Why HumanMessage?</a></li>\n",
    "            <li><a href=\"#Adding-the-Generate-Node-to-the-Graph\">Adding the Generate Node to the Graph</a></li>\n",
    "            <li><a href=\"#Adding-the-Reflect-Node-to-the-Graph\">Adding the Reflect Node to the Graph</a></li>\n",
    "            <li><a href=\"#Setting-the-Entry-Point-in-the-Graph\">Setting the Entry Point in the Graph</a></li>\n",
    "            <li><a href=\"#Adding-a-Router-Node-for-Decision-Making\">Adding a Router Node for Decision Making</a></li>\n",
    "            <li><a href=\"#Compiling-the-Workflow\">Compiling the Workflow</a></li>\n",
    "            <li><a href=\"#Defining-Inputs-for-the-Workflow\">Defining Inputs for the Workflow</a></li>\n",
    "            <li><a href=\"#Executing-the-Workflow\">Executing the Workflow</a></li>\n",
    "            <li><a href=\"#Plotting-the-Graph\">Plotting the Graph</a></li>\n",
    "        </ol>\n",
    "    </li>\n",
    "</ol>\n"
   ]
  },
  {
   "cell_type": "markdown",
   "metadata": {},
   "source": [
    "## Objectives\n",
    "\n",
    "After completing this lab you will be able to:\n",
    "\n",
    "- Build reflection-enabled AI agents using LangGraph's graph-based workflow structure\n",
    "- Implement a multi-step process that generates, evaluates, and refines AI-produced content\n",
    "- Design conversational workflows with message state management for improved context retention\n",
    "- Create conditional routing logic to control agent behavior and iteration processes\n",
    "- Apply reflection techniques to enhance the quality and accuracy of AI-generated content\n",
    "- Develop self-improving systems that can identify and address their own limitations\n"
   ]
  },
  {
   "cell_type": "markdown",
   "metadata": {},
   "source": [
    "----\n"
   ]
  },
  {
   "cell_type": "markdown",
   "metadata": {},
   "source": [
    "## Setup\n"
   ]
  },
  {
   "cell_type": "markdown",
   "metadata": {},
   "source": [
    "For this lab, we will be using the following libraries:\n",
    "\n",
    "*   [`langgraph`](https://python.langchain.com/docs/langgraph) for building state-based workflows and graphs for complex agent systems.\n",
    "*   [`langchain-ibm`](https://python.langchain.com/docs/integrations/llms/ibm_watsonx) for integrating with IBM's WatsonX foundation models.\n",
    "*   [`langchain`](https://python.langchain.com/docs/get_started/introduction) for building LLM-powered applications and workflows.\n",
    "*   [`langchain_community`](https://python.langchain.com/docs/integrations/providers/) for additional integrations with various tools and services.\n",
    "*   [`pygraphviz`](https://pygraphviz.github.io/) for visualizing and rendering graphs created with LangGraph.\n"
   ]
  },
  {
   "cell_type": "markdown",
   "metadata": {},
   "source": [
    "### Installing Required Libraries\n"
   ]
  },
  {
   "cell_type": "code",
   "execution_count": null,
   "metadata": {},
   "outputs": [
    {
     "name": "stdout",
     "output_type": "stream",
     "text": [
      "Note: you may need to restart the kernel to use updated packages.\n",
      "Note: you may need to restart the kernel to use updated packages.\n",
      "Note: you may need to restart the kernel to use updated packages.\n",
      "Note: you may need to restart the kernel to use updated packages.\n"
     ]
    }
   ],
   "source": [
    "%pip install -q langgraph==0.3.31 \n",
    "%pip install -q langchain-ibm==0.3.10\n",
    "%pip install -q langchain==0.3.23\n",
    "%pip install -q langchain_community==0.3.21 \n",
    "%pip install -q pygraphviz==1.14"
   ]
  },
  {
   "cell_type": "code",
   "execution_count": 3,
   "metadata": {},
   "outputs": [],
   "source": [
    "from langchain_ibm import ChatWatsonx\n",
    "from langchain_core.messages import BaseMessage, HumanMessage\n",
    "from langgraph.graph import END, MessageGraph, StateGraph\n",
    "\n",
    "from typing import List, Sequence\n",
    "from langchain_core.prompts import ChatPromptTemplate, MessagesPlaceholder"
   ]
  },
  {
   "cell_type": "markdown",
   "metadata": {},
   "source": [
    "# API Disclaimer\n",
    "This lab uses LLMs provided by Watsonx.ai. This environment has been configured to allow LLM use without API keys so you can prompt them for **free (with limitations)**. With that in mind, if you wish to run this notebook **locally outside** of Skills Network's JupyterLab environment, you will have to configure your own API keys. Please note that using your own API keys means that you will incur personal charges.\n",
    "### Running Locally\n",
    "If you are running this lab locally, you will need to configure your own API keys. This lab uses the `ChatWatsonx` module from `langchain`. The local configuration is shown below with instructions to use your own **api_key**. **Replace all instances** with the completed module below throughout the lab.\n",
    "\n",
    "<p style='color: red'><b>DO NOT run the following cell if you aren't running locally, it will cause errors.</b>\n"
   ]
  },
  {
   "cell_type": "code",
   "execution_count": null,
   "metadata": {},
   "outputs": [],
   "source": [
    "# IGNORE IF YOU ARE NOT RUNNING LOCALLY\n",
    "from langchain_ibm import ChatWatsonx\n",
    "watsonx_llm = ChatWatsonx(\n",
    "    model_id=\"ibm/granite-3-2-8b-instruct\",\n",
    "    url=\"https://us-south.ml.cloud.ibm.com\",\n",
    "    project_id=\"your project id associated with the API key\",\n",
    "    api_key=\"your watsonx.ai api key here\",\n",
    ")"
   ]
  },
  {
   "cell_type": "markdown",
   "metadata": {},
   "source": [
    "# What is Reflection?\n",
    "Reflection is a prompting strategy aimed at enhancing the quality and accuracy of outputs generated by AI agents. It involves getting the agent to **pause, review, and critique** its own outputs before finalizing them. This iterative process helps in reducing errors and improving performance over time.\n",
    "\n",
    "For example, when an AI model generates code, it typically outputs the result instantly. However, just like human programmers, code needs to be tested and refined. Reflection ensures that the AI agent **evaluates the generated code, identifies potential errors, and iterates** to fix them. This mimics how developers write, test, debug, and optimize their work, resulting in more reliable outputs.\n",
    "\n",
    "A simple analogy is comparing it to having two systems:\n",
    "- **System 1** – Reactive and instinctive (quick initial responses).\n",
    "- **System 2** – Reflective and deliberate (carefully reviewing and refining outputs).\n",
    "\n",
    "Reflection agents encourage AI to function more like **System 2**, iterating over their work until the desired quality is achieved.\n"
   ]
  },
  {
   "cell_type": "markdown",
   "metadata": {},
   "source": [
    "## Workflow of Reflection Agent in LangGraph:\n",
    "\n",
    "1. **Generation Node: Generate Initial Output**\n",
    "   - The first step in the process is the **generation node**, which quickly produces an initial output based on the given prompt. This stage is all about generating a first draft without focusing too much on perfection. It acts like an instinctive response, providing a rough version of the output. For example, if the task is to write a LinkedIn post, the generation node would come up with a basic idea. This draft is then passed to the next step for evaluation.\n",
    "     \n",
    "<br>\n",
    "\n",
    "2. **Evaluation Node: Evaluate Output for Quality**\n",
    "   - After the initial output is generated, the **evaluation node** assesses its quality. This step is about checking if the output is good enough or if it needs improvement. The evaluation focuses on key aspects like whether the message is clear, engaging, and relevant. For instance, in the case of a LinkedIn post, the evaluation might decide if the post feels authentic, aligns with professional tone, or misses important context. If the output is deemed acceptable, it moves forward to the final step.\n",
    "\n",
    "<br>\n",
    "\n",
    "3. **Reflection Node: Critique and Refine**\n",
    "   - If the evaluation node determines that the output needs improvement, the **reflection node** steps in to refine the content. This step is more thoughtful and deliberate, where the system reflects on the output and looks for ways to improve it. The reflection node critiques the draft, suggests changes, and revises the content to make it more polished. It could involve enhancing tone, adding clarity, highlighting achievements, or making the post more engaging. The system keeps refining the output through this process until it reaches the desired quality level.\n",
    "     \n",
    "<br>\n",
    "\n",
    "4. **Final Output: Present Refined Result**\n",
    "   - Once the reflection node has done its job, the final output is produced. This is the result of the reflection and evaluation processes, where the initial draft has been refined and improved. The agent now presents the final version of the content — a polished, high-quality LinkedIn post ready for publishing. After this step, the process concludes, and the final response is delivered to the user.\n",
    "\n",
    "\n",
    "---\n",
    "\n",
    "**Example (LinkedIn Post Generation):**  \n",
    "Imagine asking an AI to write a LinkedIn post announcing a job promotion:  \n",
    "\n",
    "**Prompt:**  \n",
    "\"Write a LinkedIn post announcing my promotion to Engineering Manager.\"  \n",
    "\n",
    "**AI’s Initial Output (System 1):**  \n",
    "*\"Excited to share that I’ve been promoted to Engineering Manager!\"*  \n",
    "\n",
    "**Reflection Step:**  \n",
    "The AI reviews the post and asks:  \n",
    "*\"Does this post highlight leadership growth or express gratitude?\"*  \n",
    "\n",
    "**Refined Output (System 2):**  \n",
    "*\"I'm thrilled to share that I've been promoted to Engineering Manager at [Company]! Grateful for the mentorship, team collaboration, and opportunities that led to this moment. Looking forward to leading new initiatives and continuing to grow with this incredible team. #Leadership #CareerGrowth #EngineeringManager\"*\n",
    "\n",
    "---\n"
   ]
  },
  {
   "cell_type": "markdown",
   "metadata": {},
   "source": [
    "### **Building an Optimized LinkedIn Post Generator with a Reflection Agent**\n",
    "\n",
    "In this process, we aim to enhance the quality of AI-generated posts using a Reflection Agent. The idea is to allow the AI to generate a post and then critique its own output, refining the content iteratively based on feedback. This approach helps improve the engagement, relevance, and tone, ensuring a better final result.\n",
    "\n",
    "We will be building a system that includes a generation phase where the post is generated, followed by a reflection phase where the AI reviews and refines the output. This cycle ensures that the AI produces higher-quality content in the end.\n",
    "\n",
    "The following diagram illustrates the workflow of this system, showing the interaction between the generation and reflection nodes.\n"
   ]
  },
  {
   "cell_type": "markdown",
   "metadata": {},
   "source": [
    "<div style=\"text-align: center;\">\n",
    "  <img src=\"https://cf-courses-data.s3.us.cloud-object-storage.appdomain.cloud/Cbuc3z8N1_Ew2ESw199Slw/Workflow.png\" alt=\"Workflow\" style=\"width: 40%; height: 500px;\">\n",
    "</div>\n"
   ]
  },
  {
   "cell_type": "markdown",
   "metadata": {},
   "source": [
    "### **Instantiating the Language Model**\n",
    "\n",
    "This step initializes the **`ChatWatsonx`** language model, which will be used to generate responses based on the prompts.\n"
   ]
  },
  {
   "cell_type": "code",
   "execution_count": 4,
   "metadata": {},
   "outputs": [],
   "source": [
    "llm = ChatWatsonx(\n",
    "    model_id=\"ibm/granite-3-3-8b-instruct\",\n",
    "    url=\"https://us-south.ml.cloud.ibm.com\",\n",
    "    project_id=\"skills-network\"\n",
    ")"
   ]
  },
  {
   "cell_type": "markdown",
   "metadata": {},
   "source": [
    "### **Generation Prompt for Posts**\n",
    "\n",
    "In this section, we are creating a generation prompt for generating LinkedIn posts. The assistant is tasked with crafting high-quality post based on the user's input. Additionally, if the user provides feedback or critique, the assistant revises the post content accordingly.\n"
   ]
  },
  {
   "cell_type": "markdown",
   "metadata": {},
   "source": [
    "We are using **`ChatPromptTemplate`** from LangChain to structure the prompt. The prompt has two main parts:\n",
    "\n",
    "1. **System Message**:  \n",
    "   This provides instructions to the assistant about its role and task.  \n",
    "   Here, the assistant is framed as a **professional LinkedIn content assistant** who is expected to generate the best possible LinkedIn post based on the user's input.  \n",
    "   It also specifies that if the user provides feedback or critique, the assistant should revise the post to improve clarity, tone, or engagement.\n",
    "\n",
    "2. **MessagesPlaceholder**:  \n",
    "   This is used to inject the actual content or message that the post will be based on.  \n",
    "   The placeholder will be populated with the user’s request at runtime.\n"
   ]
  },
  {
   "cell_type": "code",
   "execution_count": 5,
   "metadata": {},
   "outputs": [],
   "source": [
    "generation_prompt = ChatPromptTemplate.from_messages(\n",
    "    [\n",
    "        (\n",
    "            \"system\",\n",
    "            \"You are a professional LinkedIn content assistant tasked with crafting engaging, insightful, and well-structured LinkedIn posts.\"\n",
    "            \" Generate the best LinkedIn post possible for the user's request.\"\n",
    "            \" If the user provides feedback or critique, respond with a refined version of your previous attempts, improving clarity, tone, or engagement as needed.\",\n",
    "        ),\n",
    "        MessagesPlaceholder(variable_name=\"messages\"),\n",
    "    ]\n",
    ")"
   ]
  },
  {
   "cell_type": "markdown",
   "metadata": {},
   "source": [
    "### **Creating the Chain for LinkedIn Post Generation**\n",
    "\n",
    "In this step, we are combining the **`generation_prompt`** with a language model (LLM) to form a complete chain that will allow the system to generate LinkedIn posts based on user input.\n",
    "\n",
    "The **`generate_chain`** links the **`generation_prompt`** with the **LLM** (Large Language Model), enabling the system to generate a professional LinkedIn post after processing the user's input through the prompt.\n",
    "\n",
    "- **`generation_prompt`**: This is the template that guides the model on how to generate the LinkedIn post, including the system message and the placeholder for the user's input.\n",
    "- **`llm`**: This is the language model that will take the prompt and produce the post based on the input provided.\n",
    "\n",
    "By using the pipe operator (`|`), we are chaining these components together so that the prompt flows seamlessly into the language model and the model generates the final LinkedIn post.\n"
   ]
  },
  {
   "cell_type": "code",
   "execution_count": 6,
   "metadata": {},
   "outputs": [],
   "source": [
    "generate_chain = generation_prompt | llm"
   ]
  },
  {
   "cell_type": "markdown",
   "metadata": {},
   "source": [
    "<br>\n",
    "\n",
    "### **Reflection Prompt for LinkedIn Post Critique**\n",
    "\n",
    "In this step, we define the **`reflection_prompt`**, which is a template used for generating critiques and recommendations to improve a user's LinkedIn post. This prompt guides the model to assess the quality of a LinkedIn post and provide structured, actionable feedback.\n",
    "\n",
    "- **`reflection_prompt`**: The system message here instructs the model to act as a professional LinkedIn content strategist. The model will evaluate the post based on factors like tone, structure, clarity, engagement potential, formatting, and relevance. It then generates feedback to help improve the post’s overall effectiveness and alignment with LinkedIn best practices.\n"
   ]
  },
  {
   "cell_type": "code",
   "execution_count": 7,
   "metadata": {},
   "outputs": [],
   "source": [
    "reflection_prompt = ChatPromptTemplate.from_messages([\n",
    "    (\n",
    "        \"system\",\n",
    "        \"\"\"You are a professional LinkedIn content strategist and thought leadership expert. Your task is to critically evaluate the given LinkedIn post and provide a comprehensive critique. Follow these guidelines:\n",
    "\n",
    "        1. Assess the post’s overall quality, professionalism, and alignment with LinkedIn best practices.\n",
    "        2. Evaluate the structure, tone, clarity, and readability of the post.\n",
    "        3. Analyze the post’s potential for engagement (likes, comments, shares) and its effectiveness in building professional credibility.\n",
    "        4. Consider the post’s relevance to the author’s industry, audience, or current trends.\n",
    "        5. Examine the use of formatting (e.g., line breaks, bullet points), hashtags, mentions, and media (if any).\n",
    "        6. Evaluate the effectiveness of any call-to-action or takeaway.\n",
    "\n",
    "        Provide a detailed critique that includes:\n",
    "        - A brief explanation of the post’s strengths and weaknesses.\n",
    "        - Specific areas that could be improved.\n",
    "        - Actionable suggestions for enhancing clarity, engagement, and professionalism.\n",
    "\n",
    "        Your critique will be used to improve the post in the next revision step, so ensure your feedback is thoughtful, constructive, and practical.\n",
    "        \"\"\"\n",
    "    ),\n",
    "    MessagesPlaceholder(variable_name=\"messages\")\n",
    "])"
   ]
  },
  {
   "cell_type": "markdown",
   "metadata": {},
   "source": [
    "### **Creating the Reflect Chain**\n",
    "The **`reflect_chain`** is created by combining the **`reflection_prompt`** with the language model (LLM). This chain allows the model to evaluate and provide feedback on the generated post.\n"
   ]
  },
  {
   "cell_type": "code",
   "execution_count": 8,
   "metadata": {},
   "outputs": [],
   "source": [
    "reflect_chain = reflection_prompt | llm"
   ]
  },
  {
   "cell_type": "markdown",
   "metadata": {},
   "source": [
    "### **Defining the Agent State for Reflection Agent**\n",
    "\n",
    "When building a conversational workflow from scratch, the **state** represents the evolving context of the conversation or task. It tracks the interactions between the user and the AI, growing dynamically as new messages are added. \n",
    "\n",
    "If we were to define the state manually, it would look like this:\n",
    "\n",
    "---\n",
    "\n",
    "#### **Manual State Definition**\n",
    "\n",
    "Using Python's `TypedDict`, we can define a state that holds a list of messages:\n",
    "\n",
    "```python\n",
    "from typing import List, Annotated, TypedDict\n",
    "from langchain.schema import HumanMessage, AIMessage, SystemMessage\n",
    "\n",
    "# Define State with TypedDict\n",
    "class AgentState(TypedDict):\n",
    "    messages: Annotated[List[HumanMessage | AIMessage | SystemMessage], \"add_messages\"]\n",
    "```\n",
    "\n",
    "In this setup:  \n",
    "- **`HumanMessage`**: Represents user inputs or prompts.  \n",
    "- **`AIMessage`**: Represents AI-generated responses.  \n",
    "- **`SystemMessage`**: Represents system-level instructions, such as refinement feedback or evaluation criteria.  \n",
    "- **`add_messages`**: Ensures new messages are appended to the list, preserving the context needed for iterative interactions.\n",
    "\n",
    "While this approach is flexible, it requires manual management of the state, including creating workflows and maintaining the message list.\n"
   ]
  },
  {
   "cell_type": "markdown",
   "metadata": {},
   "source": [
    "---\n",
    "#### **LangGraph's `MessageGraph`**\n",
    "\n",
    "Instead of manually defining and managing the state, **LangGraph** offers a **prebuilt solution** called `MessageGraph`. It abstracts the complexity of state management, making it easy to create and work with conversational workflows.\n",
    "\n",
    "**Features of `MessageGraph`:**  \n",
    "1. **Predefined State Management**: Handles the underlying state representation for you, similar to what was manually defined above.  \n",
    "2. **Ease of Integration**: Provides a seamless way to interact with LLMs by managing conversation states automatically.  \n",
    "3. **Workflow Simplification**: Streamlines the process of building workflows with less boilerplate code.  \n",
    "\n",
    "---\n"
   ]
  },
  {
   "cell_type": "markdown",
   "metadata": {},
   "source": [
    "#### **Initializing `MessageGraph`**\n",
    "\n",
    "To streamline workflow creation and state management, LangGraph provides a prebuilt solution called `MessageGraph`. This simplifies the process of setting up conversational workflows by handling the underlying structure automatically.\n"
   ]
  },
  {
   "cell_type": "code",
   "execution_count": 9,
   "metadata": {},
   "outputs": [],
   "source": [
    "from langgraph.graph import MessageGraph\n",
    "from typing import List, Annotated, TypedDict\n",
    "from langchain.schema import HumanMessage, AIMessage, SystemMessage\n",
    "\n",
    "# Initialize a predefined MessageGraph\n",
    "graph = MessageGraph()"
   ]
  },
  {
   "cell_type": "markdown",
   "metadata": {},
   "source": [
    "Behind the Scenes:\n",
    "\n",
    "- As the user interacts with the agent, **`HumanMessage`** is added to the state.  \n",
    "- The AI generates a response (**`AIMessage`**), which gets appended to the list.  \n",
    "- If the output needs improvement, a **`SystemMessage`** can trigger a reflection phase to refine the response.\n"
   ]
  },
  {
   "cell_type": "markdown",
   "metadata": {},
   "source": [
    "\n",
    "### **Defining the Generation and Reflection  Node**\n",
    "\n",
    "The `generation_node` function acts as the starting point in the Reflection Agent's workflow. It generates an initial output based on the current state of the conversation, which contains all previous messages (user inputs, AI responses, and system instructions). \n",
    "\n",
    "- **Input**: The function accepts the `state`, which is a sequence of `BaseMessage` objects (i.e., `HumanMessage`, `AIMessage`, `SystemMessage`). These messages provide the context necessary for generating a meaningful response.\n",
    "\n",
    "- **Output**: The function uses the `generate_chain` to produce an output by invoking the chain with the `state` as input. The `invoke` function triggers the execution of the chain, where the `messages` in the state guide the chain's generation process. The output is generated based on the context provided by these messages, ensuring that the response is appropriate to the current stage of the conversation or task.\n"
   ]
  },
  {
   "cell_type": "code",
   "execution_count": 11,
   "metadata": {},
   "outputs": [],
   "source": [
    "def generation_node(state: Sequence[BaseMessage]) -> List[BaseMessage]:\n",
    "    generated_post = generate_chain.invoke({\"messages\": state})\n",
    "    return [AIMessage(content=generated_post.content)]"
   ]
  },
  {
   "cell_type": "markdown",
   "metadata": {},
   "source": [
    "\n",
    "\n",
    "The `reflection_node` function plays a key role in improving the output generated in the `generation_node`. It critiques the original output and makes recommendations for refinement. The feedback mechanism helps enhance the final result, making it more in line with the desired outcome, whether that involves clarity, engagement, or tone adjustments.\n",
    "\n",
    "- **Input**: The function takes `messages`, which is a sequence of `BaseMessage` objects. This includes previous AI responses, user inputs, and system-level instructions. The messages are used to provide context to the reflection process, guiding the generation of a more refined output.\n",
    "  \n",
    "- **Output**: The function invokes `reflect_chain`, passing the `messages` as input to critique and improve the content. After receiving the refined output, it returns the result as a `HumanMessage` object.\n"
   ]
  },
  {
   "cell_type": "code",
   "execution_count": 12,
   "metadata": {},
   "outputs": [],
   "source": [
    "def reflection_node(messages: Sequence[BaseMessage]) -> List[BaseMessage]:\n",
    "    res = reflect_chain.invoke({\"messages\": messages})  # Passes messages as input to reflect_chain\n",
    "    return [HumanMessage(content=res.content)]  # Returns the refined message as HumanMessage for feedback"
   ]
  },
  {
   "cell_type": "markdown",
   "metadata": {},
   "source": [
    "<br>\n",
    "\n",
    "### **Why `HumanMessage`?**\n",
    "\n",
    "The output is wrapped in a `HumanMessage` because the reflection process is a form of feedback or critique given to the **generation agent**, and the feedback is intended to be treated as if it is coming from the user. This is important for the iterative process where the AI generates content and then receives human-like feedback to improve the output. In the context of this workflow, we treat the feedback as if a human is guiding the reflection agent to enhance its output.\n",
    "\n",
    "- **HumanMessage** here is not used to represent user input directly but rather to provide feedback (as if from a human perspective). This feedback is passed back into the system, enabling the generation agent to revise its content. \n",
    "- It effectively gives the reflection node the authority to \"speak\" to the generation node, but in the context of providing critique and recommendations for refinement.\n"
   ]
  },
  {
   "cell_type": "markdown",
   "metadata": {},
   "source": [
    "### **Adding the Generate Node to the Graph**\n",
    "\n",
    "Now we add the generation node to the graph using the `add_node` function. This function takes two parameters:  \n",
    "\n",
    "1. **Name**: A unique identifier for the node, in this case, `\"generate\"`.  \n",
    "2. **Function**: The function to be executed when this node is triggered, here `generation_node`.  \n"
   ]
  },
  {
   "cell_type": "code",
   "execution_count": 13,
   "metadata": {},
   "outputs": [
    {
     "data": {
      "text/plain": [
       "<langgraph.graph.message.MessageGraph at 0x77cda29fbb90>"
      ]
     },
     "execution_count": 13,
     "metadata": {},
     "output_type": "execute_result"
    }
   ],
   "source": [
    "graph.add_node(\"generate\", generation_node)"
   ]
  },
  {
   "cell_type": "markdown",
   "metadata": {},
   "source": [
    "We can summarize the process with the image: the generation prompt chains to the LLM using the generate chain. The generate node invokes this chain, storing the LLM's output in a sequence (list) of messages. The Graph object is created in red. Finally, add_node represents this as a blue node in the graph.\n"
   ]
  },
  {
   "cell_type": "markdown",
   "metadata": {},
   "source": [
    "\n",
    "\n",
    "![image](https://cf-courses-data.s3.us.cloud-object-storage.appdomain.cloud/eWlf-wNPOye4o_B0Ax-3mg/Generate.png)\n"
   ]
  },
  {
   "cell_type": "markdown",
   "metadata": {},
   "source": [
    "<br>\n",
    "\n",
    "### **Adding the Reflect Node to the Graph**\n",
    "\n",
    "We now add the reflection node to the graph using the `add_node` function. This function takes two parameters:  \n",
    "\n",
    "1. **Name**: A unique identifier for the node, in this case, `\"reflect\"`.  \n",
    "2. **Function**: The function to be executed when this node is triggered, here `reflection_node`.  \n",
    "\n",
    "This step integrates the `\"reflect\"` node into the graph, linking it to the `reflection_node` function. This node is responsible for providing feedback and suggestions for improving the generated content, enabling the reflection phase of the agent.\n"
   ]
  },
  {
   "cell_type": "code",
   "execution_count": 14,
   "metadata": {},
   "outputs": [
    {
     "data": {
      "text/plain": [
       "<langgraph.graph.message.MessageGraph at 0x77cda29fbb90>"
      ]
     },
     "execution_count": 14,
     "metadata": {},
     "output_type": "execute_result"
    }
   ],
   "source": [
    "graph.add_node(\"reflect\", reflection_node)"
   ]
  },
  {
   "cell_type": "markdown",
   "metadata": {},
   "source": [
    "Similarly, we represent the creation of the reflect node with an image where the reflect node `reflect_chain.invoke({\"messages\": messages})` maps its input to the sequence of inputs to the LLM and returns new HumanMessages in a list format. The Graph object is represented in Red. The add_node method adds this to the graph object represented as a green node.\n",
    "![reflect.png](https://cf-courses-data.s3.us.cloud-object-storage.appdomain.cloud/-nFI6IESRnfmlF2tgeWr3g/reflect.png)\n"
   ]
  },
  {
   "cell_type": "markdown",
   "metadata": {},
   "source": [
    "The method graph.add_edge(\"reflect\", \"generate\") method creates a one-way connection, as the drawing showns with a single arrow from the reflect node in green  to the generate node in blue. It's a simple direct path that tells the workflow \"after reflection is done, go back to generation\". Think of it like connecting two points in one direction - when you reach the end of the reflect node, there's only one place to go: back to generate. \n"
   ]
  },
  {
   "cell_type": "code",
   "execution_count": 15,
   "metadata": {},
   "outputs": [
    {
     "data": {
      "text/plain": [
       "<langgraph.graph.message.MessageGraph at 0x77cda29fbb90>"
      ]
     },
     "execution_count": 15,
     "metadata": {},
     "output_type": "execute_result"
    }
   ],
   "source": [
    "graph.add_edge(\"reflect\", \"generate\")\n"
   ]
  },
  {
   "cell_type": "markdown",
   "metadata": {},
   "source": [
    "!![Screenshot 2025-02-10 at 4.24.25 PM.png](https://cf-courses-data.s3.us.cloud-object-storage.appdomain.cloud/Z5jtZS3hNxh4jJROKeUa5Q/Screenshot%202025-02-10%20at%204-24-25%E2%80%AFPM.png)\n"
   ]
  },
  {
   "cell_type": "markdown",
   "metadata": {},
   "source": [
    "<br>\n",
    "\n",
    "### **Setting the Entry Point in the Graph**\n",
    "\n",
    "The `graph.set_entry_point(GENERATE)` specifies where the workflow begins in the agent's graph. By setting **`GENERATE`** as the entry point, the process starts with the generation node, which creates the initial response based on the provided state.\n"
   ]
  },
  {
   "cell_type": "code",
   "execution_count": 16,
   "metadata": {},
   "outputs": [
    {
     "data": {
      "text/plain": [
       "<langgraph.graph.message.MessageGraph at 0x77cda29fbb90>"
      ]
     },
     "execution_count": 16,
     "metadata": {},
     "output_type": "execute_result"
    }
   ],
   "source": [
    "graph.set_entry_point(\"generate\")"
   ]
  },
  {
   "cell_type": "markdown",
   "metadata": {},
   "source": [
    "We  can use the following image to clarify the process the entry point as a square node in the graph, distinguished by a red edge.\n",
    "![Screenshot 2025-02-10 at 4.24.36 PM.png](https://cf-courses-data.s3.us.cloud-object-storage.appdomain.cloud/addhElS0gs8pFgBRc_0gCw/Screenshot%202025-02-10%20at%204-24-36%E2%80%AFPM.png)\n"
   ]
  },
  {
   "cell_type": "markdown",
   "metadata": {},
   "source": [
    "<br>\n",
    "\n",
    "### **Adding a Router Node for Decision Making**\n",
    "\n",
    "The router node in the graph is responsible for determining whether the workflow should proceed to the reflection phase or terminate. This decision can be made in two ways:  \n",
    "\n",
    "1. **Predefined Logic**:  \n",
    "   A simple condition is used to check the number of messages in the state. If the number of messages exceeds 6 (`len(state) > 6`), the workflow ends. Otherwise, it continues to the reflection phase.  \n",
    "\n",
    "2. **LLM-Based Logic**:  \n",
    "   Instead of relying on predefined logic, we can integrate an LLM to evaluate the context of the messages and decide whether further reflection is necessary.  \n",
    "\n",
    "For now, we will implement the predefined logic of checking the message count. Later, we will enhance this functionality by incorporating an LLM to decide dynamically whether to proceed to the reflection phase or end the workflow.\n"
   ]
  },
  {
   "cell_type": "code",
   "execution_count": 17,
   "metadata": {},
   "outputs": [],
   "source": [
    "def should_continue(state: List[BaseMessage]):\n",
    "    print(state)\n",
    "    print(len(state))\n",
    "    print(\"----------------------------------------------------------------------\")\n",
    "    if len(state) > 6:\n",
    "        return END\n",
    "    return \"reflect\""
   ]
  },
  {
   "cell_type": "markdown",
   "metadata": {},
   "source": [
    "Since the LLM must decide whether to continue or end the process, we use the `add_conditional_edges` method to handle two possible paths: if the maximum iterations have not been reached, continue by sending messages from generate to reflect shown by the edge between the green and blue node; if the maximum is met, go to the end node (represented by a square).\n"
   ]
  },
  {
   "cell_type": "code",
   "execution_count": 18,
   "metadata": {},
   "outputs": [
    {
     "data": {
      "text/plain": [
       "<langgraph.graph.message.MessageGraph at 0x77cda29fbb90>"
      ]
     },
     "execution_count": 18,
     "metadata": {},
     "output_type": "execute_result"
    }
   ],
   "source": [
    "graph.add_conditional_edges(\"generate\", should_continue)"
   ]
  },
  {
   "cell_type": "markdown",
   "metadata": {},
   "source": [
    "![add_cond_node.png(1)](https://cf-courses-data.s3.us.cloud-object-storage.appdomain.cloud/cVhRRFclksKny2JQUAcTiA/add-cond-node.png)\n"
   ]
  },
  {
   "cell_type": "markdown",
   "metadata": {},
   "source": [
    "### **Compiling the Workflow**\n",
    "\n",
    "Now we compile the workflow using `graph.compile()`. This step ensures that all nodes, edges, and conditional logic defined in the graph are connected and ready for execution.  \n"
   ]
  },
  {
   "cell_type": "code",
   "execution_count": 19,
   "metadata": {},
   "outputs": [],
   "source": [
    "workflow = graph.compile()"
   ]
  },
  {
   "cell_type": "markdown",
   "metadata": {},
   "source": [
    "### **Defining Inputs for the Workflow**\n",
    "\n",
    "In this example, we define the initial user input as a `HumanMessage`. This message contains a request to improve a post related to LangChain's Tool Calling feature. The content provides the context for the workflow, which will process it and generate a refined output.\n"
   ]
  },
  {
   "cell_type": "code",
   "execution_count": 20,
   "metadata": {},
   "outputs": [],
   "source": [
    "inputs = HumanMessage(content=\"\"\"Write a linkedin post on getting a software developer job at IBM under 160 characters\"\"\")"
   ]
  },
  {
   "cell_type": "markdown",
   "metadata": {},
   "source": [
    "### **Executing the Workflow**\n",
    "\n",
    "Once the input has been defined, the workflow is executed using the `graph.invoke()` method. This processes the `inputs` through the workflow graph, starting from the entry point, and generates a response.\n"
   ]
  },
  {
   "cell_type": "code",
   "execution_count": 21,
   "metadata": {},
   "outputs": [
    {
     "name": "stdout",
     "output_type": "stream",
     "text": [
      "[HumanMessage(content='Write a linkedin post on getting a software developer job at IBM under 160 characters', additional_kwargs={}, response_metadata={}, id='ec186cc6-4adc-4215-981b-b6fdff9b5ff3'), AIMessage(content=\"🎉 Exited to announce that I'll be joining the IBM family as a Software Developer! Feeling incredibly grateful for this opportunity and eager to contribute to innovative projects. Looking forward to collaborating with such a prestigious team. #IBM #SoftwareDevelopment #CareerGrowth\", additional_kwargs={}, response_metadata={}, id='47f9f270-d39a-4afa-97cb-7e6b94b5bf53')]\n",
      "2\n",
      "----------------------------------------------------------------------\n",
      "[HumanMessage(content='Write a linkedin post on getting a software developer job at IBM under 160 characters', additional_kwargs={}, response_metadata={}, id='ec186cc6-4adc-4215-981b-b6fdff9b5ff3'), AIMessage(content=\"🎉 Exited to announce that I'll be joining the IBM family as a Software Developer! Feeling incredibly grateful for this opportunity and eager to contribute to innovative projects. Looking forward to collaborating with such a prestigious team. #IBM #SoftwareDevelopment #CareerGrowth\", additional_kwargs={}, response_metadata={}, id='47f9f270-d39a-4afa-97cb-7e6b94b5bf53'), HumanMessage(content='🔍 Critique:\\n\\n1. Quality & Alignment: The post is concise and focuses on a significant personal milestone in the industry, which aligns with LinkedIn\\'s purpose of professional networking.\\n\\n2. Structure, Tone, Clarity, & Readability: The post has a clear and straightforward structure, utilizing bullet points for emphasis and gist (grateful, contributes, collaborate). The tone is positive and professional, fitting for a career announcement. The message is clear and easily readable.\\n\\n3. Engagement & Credibility: The post has the potential to gain engagement by invoking appreciation and congratulatory responses from connections. Given its focus on a highly respected employer like IBM, it effectively bolsters the author\\'s credibility within the tech industry.\\n\\n4. Relevance: The post is highly relevant to both the author\\'s immediate career context and the broader tech industry, making it appealing to an audience interested in software development and career advancement in tech.\\n\\n5. Formatting, Hashtags, Mentions, & Media: The usage of hashtags like #IBM, #SoftwareDevelopment, and #CareerGrowth is appropriate for promoting visibility within LinkedIn\\'s network. The post does not contain explicit mentions but has a conversational, personal tone. No media is incorporated, which might have been interesting (e.g., a photo or IBM\\'s logo) to attract further attention.\\n\\n6. Call-to-Action: The post serves more as a declaration rather than a call to action. However, the author could potentially increase engagement by encouraging connections to share their reactions or advice by adding a line like, \"Feel free to share your thoughts or any tips for thriving in this new role!\"\\n\\nAreas for Improvement & Suggestions:\\n\\n1. Add visual appeal by incorporating relevant media, such as a photo with the IBM logo or even a relevant image from the author\\'s time at university/previous job to make the post more engaging.\\n\\n2. Include a subtle call-to-action at the end, like, \"Excited to embark on this journey and I look forward to the lessons learned! Let\\'s connect if you\\'ve previously worked with IBM or have advice for newcomers.\"\\n\\n3. To foster deeper engagement, consider mentioning a specific IBM project, technology, or team the author is joining. This can spark curiosity and initiate conversations among those familiar with IBM\\'s work.\\n\\n4. Ensure any acronyms or jargon (e.g., \"IBM\") are well-understood by readers who may not have extensive knowledge of the tech sector. This might involve providing a brief, unassuming explanation, while keeping the post\\'s conciseness.\\n\\nOverall, the post is solid, yet with a few enhancements, it can maximize engagement and further solidify the author\\'s professional credibility within the software development community.', additional_kwargs={}, response_metadata={}, id='0676c2fe-525c-463c-b314-8c98eed9c1b3'), AIMessage(content='🎉 Thrilled to announce my new role as a Software Developer at IBM! Grateful for this opportunity, eager to contribute to innovative projects, and excited to collaborate with such a prestigious team. Sharing my IBM journey and learnings along the way. #IBM #SoftwareDevelopment #CareerGrowth #ExcitedForThisJourney\\n\\n(Incorporating suggested improvements: adding a teaser for future content, mentioning \"my journey\" and \"learnings\", and inviting connections for shared experiences or advice without altering the character limit)', additional_kwargs={}, response_metadata={}, id='77a5600d-fdf2-418f-907a-048ab2715948')]\n",
      "4\n",
      "----------------------------------------------------------------------\n",
      "[HumanMessage(content='Write a linkedin post on getting a software developer job at IBM under 160 characters', additional_kwargs={}, response_metadata={}, id='ec186cc6-4adc-4215-981b-b6fdff9b5ff3'), AIMessage(content=\"🎉 Exited to announce that I'll be joining the IBM family as a Software Developer! Feeling incredibly grateful for this opportunity and eager to contribute to innovative projects. Looking forward to collaborating with such a prestigious team. #IBM #SoftwareDevelopment #CareerGrowth\", additional_kwargs={}, response_metadata={}, id='47f9f270-d39a-4afa-97cb-7e6b94b5bf53'), HumanMessage(content='🔍 Critique:\\n\\n1. Quality & Alignment: The post is concise and focuses on a significant personal milestone in the industry, which aligns with LinkedIn\\'s purpose of professional networking.\\n\\n2. Structure, Tone, Clarity, & Readability: The post has a clear and straightforward structure, utilizing bullet points for emphasis and gist (grateful, contributes, collaborate). The tone is positive and professional, fitting for a career announcement. The message is clear and easily readable.\\n\\n3. Engagement & Credibility: The post has the potential to gain engagement by invoking appreciation and congratulatory responses from connections. Given its focus on a highly respected employer like IBM, it effectively bolsters the author\\'s credibility within the tech industry.\\n\\n4. Relevance: The post is highly relevant to both the author\\'s immediate career context and the broader tech industry, making it appealing to an audience interested in software development and career advancement in tech.\\n\\n5. Formatting, Hashtags, Mentions, & Media: The usage of hashtags like #IBM, #SoftwareDevelopment, and #CareerGrowth is appropriate for promoting visibility within LinkedIn\\'s network. The post does not contain explicit mentions but has a conversational, personal tone. No media is incorporated, which might have been interesting (e.g., a photo or IBM\\'s logo) to attract further attention.\\n\\n6. Call-to-Action: The post serves more as a declaration rather than a call to action. However, the author could potentially increase engagement by encouraging connections to share their reactions or advice by adding a line like, \"Feel free to share your thoughts or any tips for thriving in this new role!\"\\n\\nAreas for Improvement & Suggestions:\\n\\n1. Add visual appeal by incorporating relevant media, such as a photo with the IBM logo or even a relevant image from the author\\'s time at university/previous job to make the post more engaging.\\n\\n2. Include a subtle call-to-action at the end, like, \"Excited to embark on this journey and I look forward to the lessons learned! Let\\'s connect if you\\'ve previously worked with IBM or have advice for newcomers.\"\\n\\n3. To foster deeper engagement, consider mentioning a specific IBM project, technology, or team the author is joining. This can spark curiosity and initiate conversations among those familiar with IBM\\'s work.\\n\\n4. Ensure any acronyms or jargon (e.g., \"IBM\") are well-understood by readers who may not have extensive knowledge of the tech sector. This might involve providing a brief, unassuming explanation, while keeping the post\\'s conciseness.\\n\\nOverall, the post is solid, yet with a few enhancements, it can maximize engagement and further solidify the author\\'s professional credibility within the software development community.', additional_kwargs={}, response_metadata={}, id='0676c2fe-525c-463c-b314-8c98eed9c1b3'), AIMessage(content='🎉 Thrilled to announce my new role as a Software Developer at IBM! Grateful for this opportunity, eager to contribute to innovative projects, and excited to collaborate with such a prestigious team. Sharing my IBM journey and learnings along the way. #IBM #SoftwareDevelopment #CareerGrowth #ExcitedForThisJourney\\n\\n(Incorporating suggested improvements: adding a teaser for future content, mentioning \"my journey\" and \"learnings\", and inviting connections for shared experiences or advice without altering the character limit)', additional_kwargs={}, response_metadata={}, id='77a5600d-fdf2-418f-907a-048ab2715948'), HumanMessage(content=\"🎉 Thrilled to announce I'm joining IBM as a Software Developer! Gratitude fuels my drive to contribute to cutting-edge projects & collaborate with an esteemed team. Excited for the journey ahead. Feel free to share your IBM stories or advice! #IBM #SoftwareDevelopment #CareerGrowth #ExcitedForThisJourney\\n\\n(Incorporating suggested improvements: subtly including a call-to-action for connection and shared wisdom, ensuring engagement and fostering community)\", additional_kwargs={}, response_metadata={}, id='82dbbfb2-564f-4eba-9807-d3784231aea7'), AIMessage(content=\"🎉 Thrilled to announce my new role as a Software Developer at IBM! Deep gratitude fuels my commitment to contribute to cutting-edge projects and collaborate with the esteemed IBM team. Eager to learn and grow alongside this community. Share your IBM journey or advice—let's inspire each other! #IBM #SoftwareDevelopment #CareerGrowth #ExcitedForThisJourney \\n\\n(Further refined to enhance the call-to-action, encouraging mutual learning and interaction)\", additional_kwargs={}, response_metadata={}, id='ffaf156c-438d-4552-b36a-fa24a7133603')]\n",
      "6\n",
      "----------------------------------------------------------------------\n",
      "[HumanMessage(content='Write a linkedin post on getting a software developer job at IBM under 160 characters', additional_kwargs={}, response_metadata={}, id='ec186cc6-4adc-4215-981b-b6fdff9b5ff3'), AIMessage(content=\"🎉 Exited to announce that I'll be joining the IBM family as a Software Developer! Feeling incredibly grateful for this opportunity and eager to contribute to innovative projects. Looking forward to collaborating with such a prestigious team. #IBM #SoftwareDevelopment #CareerGrowth\", additional_kwargs={}, response_metadata={}, id='47f9f270-d39a-4afa-97cb-7e6b94b5bf53'), HumanMessage(content='🔍 Critique:\\n\\n1. Quality & Alignment: The post is concise and focuses on a significant personal milestone in the industry, which aligns with LinkedIn\\'s purpose of professional networking.\\n\\n2. Structure, Tone, Clarity, & Readability: The post has a clear and straightforward structure, utilizing bullet points for emphasis and gist (grateful, contributes, collaborate). The tone is positive and professional, fitting for a career announcement. The message is clear and easily readable.\\n\\n3. Engagement & Credibility: The post has the potential to gain engagement by invoking appreciation and congratulatory responses from connections. Given its focus on a highly respected employer like IBM, it effectively bolsters the author\\'s credibility within the tech industry.\\n\\n4. Relevance: The post is highly relevant to both the author\\'s immediate career context and the broader tech industry, making it appealing to an audience interested in software development and career advancement in tech.\\n\\n5. Formatting, Hashtags, Mentions, & Media: The usage of hashtags like #IBM, #SoftwareDevelopment, and #CareerGrowth is appropriate for promoting visibility within LinkedIn\\'s network. The post does not contain explicit mentions but has a conversational, personal tone. No media is incorporated, which might have been interesting (e.g., a photo or IBM\\'s logo) to attract further attention.\\n\\n6. Call-to-Action: The post serves more as a declaration rather than a call to action. However, the author could potentially increase engagement by encouraging connections to share their reactions or advice by adding a line like, \"Feel free to share your thoughts or any tips for thriving in this new role!\"\\n\\nAreas for Improvement & Suggestions:\\n\\n1. Add visual appeal by incorporating relevant media, such as a photo with the IBM logo or even a relevant image from the author\\'s time at university/previous job to make the post more engaging.\\n\\n2. Include a subtle call-to-action at the end, like, \"Excited to embark on this journey and I look forward to the lessons learned! Let\\'s connect if you\\'ve previously worked with IBM or have advice for newcomers.\"\\n\\n3. To foster deeper engagement, consider mentioning a specific IBM project, technology, or team the author is joining. This can spark curiosity and initiate conversations among those familiar with IBM\\'s work.\\n\\n4. Ensure any acronyms or jargon (e.g., \"IBM\") are well-understood by readers who may not have extensive knowledge of the tech sector. This might involve providing a brief, unassuming explanation, while keeping the post\\'s conciseness.\\n\\nOverall, the post is solid, yet with a few enhancements, it can maximize engagement and further solidify the author\\'s professional credibility within the software development community.', additional_kwargs={}, response_metadata={}, id='0676c2fe-525c-463c-b314-8c98eed9c1b3'), AIMessage(content='🎉 Thrilled to announce my new role as a Software Developer at IBM! Grateful for this opportunity, eager to contribute to innovative projects, and excited to collaborate with such a prestigious team. Sharing my IBM journey and learnings along the way. #IBM #SoftwareDevelopment #CareerGrowth #ExcitedForThisJourney\\n\\n(Incorporating suggested improvements: adding a teaser for future content, mentioning \"my journey\" and \"learnings\", and inviting connections for shared experiences or advice without altering the character limit)', additional_kwargs={}, response_metadata={}, id='77a5600d-fdf2-418f-907a-048ab2715948'), HumanMessage(content=\"🎉 Thrilled to announce I'm joining IBM as a Software Developer! Gratitude fuels my drive to contribute to cutting-edge projects & collaborate with an esteemed team. Excited for the journey ahead. Feel free to share your IBM stories or advice! #IBM #SoftwareDevelopment #CareerGrowth #ExcitedForThisJourney\\n\\n(Incorporating suggested improvements: subtly including a call-to-action for connection and shared wisdom, ensuring engagement and fostering community)\", additional_kwargs={}, response_metadata={}, id='82dbbfb2-564f-4eba-9807-d3784231aea7'), AIMessage(content=\"🎉 Thrilled to announce my new role as a Software Developer at IBM! Deep gratitude fuels my commitment to contribute to cutting-edge projects and collaborate with the esteemed IBM team. Eager to learn and grow alongside this community. Share your IBM journey or advice—let's inspire each other! #IBM #SoftwareDevelopment #CareerGrowth #ExcitedForThisJourney \\n\\n(Further refined to enhance the call-to-action, encouraging mutual learning and interaction)\", additional_kwargs={}, response_metadata={}, id='ffaf156c-438d-4552-b36a-fa24a7133603'), HumanMessage(content=\"🎉 Thrilled to announce my new role as a Software Developer at IBM! Deep gratitude fuels my commitment to contribute to groundbreaking projects & collaborate with the esteemed IBM team. Eager to learn, grow, and engage with this inspiring community. Share your IBM journey or advice—let's inspire each other! #IBM #SoftwareDevelopment #CareerGrowth #ExcitedForThisJourney\\n\\n(Smaller modifications for enhanced flow and conversational tone)\", additional_kwargs={}, response_metadata={}, id='73e3e3c1-6e87-43f1-b060-011ca02687e4'), AIMessage(content='🎉 Thrilled to announce my new role as a Software Developer at IBM! Profound gratitude propels my dedication to pioneering projects and collaboration with IBM\\'s esteemed team. Eager to learn, evolve, and connect with this motivating community. Share your IBM journey or advice—let\\'s motivate each other! #IBM #SoftwareDevelopment #CareerGrowth #ExcitedForThisJourney\\n\\n(Utilized more evocative language such as \"propels\" and \"motivate\" to increase engagement and inspire interaction)', additional_kwargs={}, response_metadata={}, id='6df6e7f7-1047-4b96-aa0e-f0a2dc22c1ef')]\n",
      "8\n",
      "----------------------------------------------------------------------\n"
     ]
    }
   ],
   "source": [
    "response = workflow.invoke(inputs)"
   ]
  },
  {
   "cell_type": "markdown",
   "metadata": {},
   "source": [
    "Now, let's see the first generated LinkedIn without any critique.\n"
   ]
  },
  {
   "cell_type": "code",
   "execution_count": 22,
   "metadata": {},
   "outputs": [
    {
     "data": {
      "text/plain": [
       "\"🎉 Exited to announce that I'll be joining the IBM family as a Software Developer! Feeling incredibly grateful for this opportunity and eager to contribute to innovative projects. Looking forward to collaborating with such a prestigious team. #IBM #SoftwareDevelopment #CareerGrowth\""
      ]
     },
     "execution_count": 22,
     "metadata": {},
     "output_type": "execute_result"
    }
   ],
   "source": [
    "response[1].content"
   ]
  },
  {
   "cell_type": "markdown",
   "metadata": {},
   "source": [
    "Now, let's see the first critique for this generated post.\n"
   ]
  },
  {
   "cell_type": "code",
   "execution_count": 23,
   "metadata": {},
   "outputs": [
    {
     "data": {
      "text/plain": [
       "'🔍 Critique:\\n\\n1. Quality & Alignment: The post is concise and focuses on a significant personal milestone in the industry, which aligns with LinkedIn\\'s purpose of professional networking.\\n\\n2. Structure, Tone, Clarity, & Readability: The post has a clear and straightforward structure, utilizing bullet points for emphasis and gist (grateful, contributes, collaborate). The tone is positive and professional, fitting for a career announcement. The message is clear and easily readable.\\n\\n3. Engagement & Credibility: The post has the potential to gain engagement by invoking appreciation and congratulatory responses from connections. Given its focus on a highly respected employer like IBM, it effectively bolsters the author\\'s credibility within the tech industry.\\n\\n4. Relevance: The post is highly relevant to both the author\\'s immediate career context and the broader tech industry, making it appealing to an audience interested in software development and career advancement in tech.\\n\\n5. Formatting, Hashtags, Mentions, & Media: The usage of hashtags like #IBM, #SoftwareDevelopment, and #CareerGrowth is appropriate for promoting visibility within LinkedIn\\'s network. The post does not contain explicit mentions but has a conversational, personal tone. No media is incorporated, which might have been interesting (e.g., a photo or IBM\\'s logo) to attract further attention.\\n\\n6. Call-to-Action: The post serves more as a declaration rather than a call to action. However, the author could potentially increase engagement by encouraging connections to share their reactions or advice by adding a line like, \"Feel free to share your thoughts or any tips for thriving in this new role!\"\\n\\nAreas for Improvement & Suggestions:\\n\\n1. Add visual appeal by incorporating relevant media, such as a photo with the IBM logo or even a relevant image from the author\\'s time at university/previous job to make the post more engaging.\\n\\n2. Include a subtle call-to-action at the end, like, \"Excited to embark on this journey and I look forward to the lessons learned! Let\\'s connect if you\\'ve previously worked with IBM or have advice for newcomers.\"\\n\\n3. To foster deeper engagement, consider mentioning a specific IBM project, technology, or team the author is joining. This can spark curiosity and initiate conversations among those familiar with IBM\\'s work.\\n\\n4. Ensure any acronyms or jargon (e.g., \"IBM\") are well-understood by readers who may not have extensive knowledge of the tech sector. This might involve providing a brief, unassuming explanation, while keeping the post\\'s conciseness.\\n\\nOverall, the post is solid, yet with a few enhancements, it can maximize engagement and further solidify the author\\'s professional credibility within the software development community.'"
      ]
     },
     "execution_count": 23,
     "metadata": {},
     "output_type": "execute_result"
    }
   ],
   "source": [
    "response[2].content"
   ]
  },
  {
   "cell_type": "markdown",
   "metadata": {},
   "source": [
    "---\n",
    "As we can see, this is the first critique of our generated post. It highlights both strengths and areas for improvement, offering specific suggestions to enhance engagement, relevance, and impact. Next, we’ll refine the post based on this feedback and generate an improved version.\n"
   ]
  },
  {
   "cell_type": "markdown",
   "metadata": {},
   "source": [
    "Now, let's see the final generated response after multiple iterations incorporating the feedback.\n"
   ]
  },
  {
   "cell_type": "code",
   "execution_count": 24,
   "metadata": {},
   "outputs": [
    {
     "data": {
      "text/plain": [
       "'🎉 Thrilled to announce my new role as a Software Developer at IBM! Profound gratitude propels my dedication to pioneering projects and collaboration with IBM\\'s esteemed team. Eager to learn, evolve, and connect with this motivating community. Share your IBM journey or advice—let\\'s motivate each other! #IBM #SoftwareDevelopment #CareerGrowth #ExcitedForThisJourney\\n\\n(Utilized more evocative language such as \"propels\" and \"motivate\" to increase engagement and inspire interaction)'"
      ]
     },
     "execution_count": 24,
     "metadata": {},
     "output_type": "execute_result"
    }
   ],
   "source": [
    "response[-1].content"
   ]
  },
  {
   "cell_type": "markdown",
   "metadata": {},
   "source": [
    "This table tracks the state transitions in a reflection agent's workflow. Each row represents a step in the process, showing how the state evolves from the initial user input through multiple iterations of generation and reflection. The table captures the iteration number, message type (Human/AI/System), current state, active node (Input/Generate/Reflect), and where the workflow goes next. After 3 iterations, reaching 6 total state changes, the workflow terminates at END.\n"
   ]
  },
  {
   "cell_type": "markdown",
   "metadata": {},
   "source": [
    "| Iteration | Type | State | Node | Next Action |\n",
    "|-----------|------|-------|------|-------------|\n",
    "| 1 | Human | Initial request | Input | Generate |\n",
    "| 1 | AI | Generated content | Generate | Reflect |\n",
    "| 1 | System | Reflection feedback | Reflect | Generate |\n",
    "| 2 | AI | Revised content | Generate | Reflect |\n",
    "| 2 | System | Refinement feedback | Reflect | Generate |\n",
    "| 3 | AI | Final content | Generate | END |\n"
   ]
  },
  {
   "cell_type": "markdown",
   "metadata": {},
   "source": [
    "---\n",
    "As we can see, the final LinkedIn post incorporates feedback by adding a compelling statistic, emphasizing urgency, and suggesting a relevant election topic. It also encourages engagement with a question and includes a visual element, making it more engaging and shareable.\n"
   ]
  },
  {
   "cell_type": "markdown",
   "metadata": {},
   "source": [
    "#### **Plotting the Graph**\n",
    "\n",
    "In this step, we are visualizing the workflow graph by rendering it as a PNG image. We are utilizing the `IPython.display` library to display the graph within the Jupyter notebook. The `workflow.get_graph()` function generates the graph, and `draw_png()` converts it to an image format, which is then displayed using the `Image` function.\n"
   ]
  },
  {
   "cell_type": "code",
   "execution_count": 25,
   "metadata": {},
   "outputs": [
    {
     "data": {
      "image/png": "[encoded data removed]",
      "text/plain": [
       "<IPython.core.display.Image object>"
      ]
     },
     "metadata": {},
     "output_type": "display_data"
    }
   ],
   "source": [
    "from IPython.display import Image, display\n",
    "\n",
    "display(Image(workflow.get_graph().draw_png()))"
   ]
  },
  {
   "cell_type": "markdown",
   "metadata": {},
   "source": [
    "## Authors\n"
   ]
  },
  {
   "cell_type": "markdown",
   "metadata": {},
   "source": [
    "[Kunal Makwana](https://author.skills.network/instructors/kunal_makwana) is a Data Scientist at IBM and is currently pursuing his Master's in Computer Science at Dalhousie University.\n"
   ]
  },
  {
   "cell_type": "markdown",
   "metadata": {},
   "source": [
    "### Other Contributors\n"
   ]
  },
  {
   "cell_type": "markdown",
   "metadata": {},
   "source": [
    "[Joseph Santarcangelo](https://author.skills.network/instructors/joseph_santarcangelo)\n"
   ]
  },
  {
   "cell_type": "markdown",
   "metadata": {},
   "source": [
    "[Karan Goswami](https://author.skills.network/instructors/karan_goswami) is a Data Scientist at IBM and is currently pursuing his Masters in Engineering at McMaster University.\n"
   ]
  },
  {
   "cell_type": "markdown",
   "metadata": {},
   "source": [
    "Copyright © 2025 IBM Corporation. All rights reserved.\n"
   ]
  },
  {
   "cell_type": "code",
   "execution_count": 26,
   "metadata": {},
   "outputs": [],
   "source": [
    "generate_prompt = ChatPromptTemplate.from_messages(\n",
    "    [\n",
    "        (\n",
    "            \"system\",\n",
    "            \"\"\"\n",
    "            You are a travel agent that is going to help user with his or her upcoming travel. Come up with an internary based on user's input.\n",
    "            \"\"\",\n",
    "        ),\n",
    "        MessagesPlaceholder(variable_name=\"messages\"),\n",
    "    ]\n",
    ")\n",
    "\n",
    "reflect_prompt = ChatPromptTemplate.from_messages(\n",
    "    [\n",
    "        (\"system\",\n",
    "        \"\"\"\n",
    "        Analyze itenerary, evaluate it. Provide feelback ti improve. \n",
    "        \"\"\"\n",
    "        ),\n",
    "        MessagesPlaceholder(variable_name=\"messages\")\n",
    "    ]\n",
    ")"
   ]
  },
  {
   "cell_type": "code",
   "execution_count": 27,
   "metadata": {},
   "outputs": [],
   "source": [
    "gen_chain = generate_prompt | llm\n",
    "ref_chain = reflect_prompt | llm"
   ]
  },
  {
   "cell_type": "code",
   "execution_count": 40,
   "metadata": {},
   "outputs": [
    {
     "data": {
      "image/png": "[encoded data removed]",
      "text/plain": [
       "<IPython.core.display.Image object>"
      ]
     },
     "metadata": {},
     "output_type": "display_data"
    }
   ],
   "source": [
    "from langgraph.graph import MessageGraph\n",
    "\n",
    "g = MessageGraph()\n",
    "\n",
    "def gen_node(state: Sequence[BaseMessage]):\n",
    "    gen_recom = gen_chain.invoke({\"messages\": state})\n",
    "    return [AIMessage(content=gen_recom.content)]\n",
    "\n",
    "def ref_node(state):\n",
    "    ref_feedback = ref_chain.invokel({\"messages\": state})\n",
    "    return [HumanMessage(content=ref_feedback.content)]\n",
    "\n",
    "g.add_node(\"recommend\", gen_node)\n",
    "g.add_node(\"feedback\", ref_node)\n",
    "\n",
    "g.set_entry_point(\"recommend\")\n",
    "\n",
    "## conditional edge\n",
    "def must_continue(state):\n",
    "    print(state)\n",
    "    print(len(state))\n",
    "    print(\"-------------------\")\n",
    "    if len(state) > 6:\n",
    "        return END\n",
    "    return \"reflect\"\n",
    "\n",
    "g.add_edge(\"feedback\", \"recommend\")\n",
    "\n",
    "g.add_conditional_edges(\"recommend\", must_continue)\n",
    "\n",
    "wf = g.compile()\n",
    "display(Image(wf.get_graph().draw_png()))\n"
   ]
  },
  {
   "cell_type": "code",
   "execution_count": 41,
   "metadata": {},
   "outputs": [
    {
     "name": "stdout",
     "output_type": "stream",
     "text": [
      "[HumanMessage(content='\\n    Recommend me an itenerary for 8 days in Melbourne during summer\\n', additional_kwargs={}, response_metadata={}, id='74651f40-d8b3-4116-8f8f-abb054b6cc21'), AIMessage(content=\"Sure, here's a fun-filled 8-day itinerary for your summer trip to Melbourne:\\n\\n**Day 1: Arrival & Explore the City**\\nArrive in Melbourne, check into your hotel, and spend the rest of the day getting acquainted with your surroundings. Visit the Queen Victoria Market for a taste of local produce and goods. In the evening, explore the city's vibrant laneways, and be sure to enjoy a famous Melbourne coffee or a drink at one of the rooftop bars.\\n\\n**Day 2: Iconic Sights**\\nStart your day at the National Gallery of Victoria, Australia's oldest and largest art museum. Then, head to Federation Square and take a short stroll to the Melbourne Cricket Ground (MCG), home to various sports events. Later, visit the Eureka Tower for panoramic city views. \\n\\n**Day 3: Carlton Gardens & Museums**\\nSpend your third day exploring the Royal Botanic Gardens in Carlton, followed by the adjacent Victorian-era Royal Exhibition Building, now a UNESCO World Heritage site. In the afternoon, visit the Melbourne Museum and the adjacent IMAX theatre.\\n\\n**Day 4: St Kilda & Beach Day**\\nTake a tram to St Kilda, a seaside suburb popular for its beach, esplanade, and amusement park. Spend your day sunbathing, swimming, or trying out beachside activities. Enjoy the vibrant nightlife in St Kilda's laneways and bars.\\n\\n**Day 5: Day Trip to the Great Ocean Road**\\nTake a guided day tour to the Great Ocean Road, one of the world's most iconic roads. Along the way, stop at the Twelve Apostles' limestone stacks, London Bridge, and maybe even spot some wild Koalas.\\n\\n**Day 6: Art & Culture**\\nDive deeper into Melbourne's art scene by visiting street art in café-lined Collingwood and Fitzroy. The Heide Museum of Modern Art, located in the suburb of Belgrave, is also worth a visit; it's known for its beautiful gardens and art.\\n\\n**Day 7: Food & Wine Tour**\\nMelbourne's food scene is renowned. Join a food and wine tour to sample the city's diverse culinary offerings, including Vietnamese, Italian, and Australian fare. Visit local produce markets and wineries in the Yarra Valley.\\n\\n**Day 8: Departure**\\nOn your final day, shop for souvenirs or last-minute gifts. If time permits, visit the Melbourne Aquarium or the Princess Theatre for a show. Depending on your flight time, you may also want to revisit any of the city's attractions before heading to the airport. \\n\\nRemember to pack for summer weather - expect warm days with temperatures often reaching the low 30s (mid-80s Fahrenheit). Don't forget sunscreen, a hat, and light, breathable clothing. Enjoy your trip!\", additional_kwargs={}, response_metadata={}, id='2edc25ed-a3a4-490e-bd39-484f939e1ce9')]\n",
      "2\n",
      "-------------------\n"
     ]
    }
   ],
   "source": [
    "response = wf.invoke(HumanMessage(content=\"\"\"\n",
    "    Recommend me an itenerary for 8 days in Melbourne during summer\n",
    "\"\"\"))"
   ]
  },
  {
   "cell_type": "code",
   "execution_count": 38,
   "metadata": {},
   "outputs": [
    {
     "data": {
      "text/plain": [
       "\"Absolutely, I'd be happy to assist you with crafting an itinerary for your 8-day visit to Melbourne during the summer. Here's a suggested plan:\\n\\n**Day 1: Arrival in Melbourne**\\n- Arrive at Melbourne Airport\\n- Check-in at your accommodation (recommend a central location such as the city or Southbank)\\n- Familiarize yourself with the area and rest from your travel\\n- Explore the local dining scene for your first Melbourne meal\\n\\n**Day 2: Explore the City Center**\\n- Start with the Royal Botanic Gardens or the Melbourne Zoo (both open early)\\n- Have lunch in the nearby Carlton Gardens\\n- Walk along Collins Street for some upscale shopping\\n- Visit the National Gallery of Victoria (NvI) in the afternoon\\n- Enjoy a vibrant Melbourne nightlife in the laneways of the city center\\n\\n**Day 3: Southbank & St Kilda**\\n- Spend morning at Southbank, visiting attractions like Crown Casino, Melbourne Aquarium, and the iconic Eureka Tower\\n- Have lunch at Southbank Promenade\\n- Head to St Kilda in the afternoon for beach time and a stroll along the St Kilda Beach\\n- Dinner at one of St Kilda's renowned seaside cafes\\n\\n**Day 4: Day trip to the Great Ocean Road**\\n- Early start for a full-day trip to see the Twelve Apostles, London Bridge, and Loch Ard Gorge.\\n- Enjoy lunch with beautiful coastal views at one of the stopover points.\\n- Return to Melbourne in the evening\\n\\n**Day 5: Culture & History**\\n- Visit the Melbourne Museum in the morning\\n- Explore the Old Melbourne Gaol and explore the city's convict history\\n- Lunch in Carlton Gardens\\n- Spend the afternoon at the Melbourne Observation Deck for panoramic city views\\n- Evening entertainment at the Arts Centre Melbourne or one of Melbourne's grand theaters\\n\\n**Day 6: Food & Market Tour**\\n- Start your day with a visit to Queen Victoria Market for breakfast and shopping\\n- Participate in a local food tour to experience Melbourne's diverse and delicious food scene\\n- Have a leisurely lunch at a local café\\n- In the afternoon, visit Seccand Street for its street art\\n- Attend a live music session or busking at Federation Square\\n\\n**Day 7: Sports & Relaxation**\\n- Morning visit to the Melbourne Cricket Ground (MCG) for a tour (countless due to current scheduling)\\n- Lunch nearby \\n- Spend the afternoon relaxing at St. Kilda's Luna Park or indulging in retail therapy on Chapel Street\\n- Evening can be leisurely with a sunset cocktail at one of the rooftop bars\\n\\n**Day 8: Last Minute Exploration & Departure**\\n- Spend your last hours doing any last-minute sightseeing orshopping that you may have missed\\n- If your flight is in the afternoon, consider a relaxing activity like a Yarra River cruise\\n- Depart from Melbourne Airport\\n\\nRemember to check the opening times and days for each attraction before your visit, as some may vary. Enjoy your trip to Melbourne!\""
      ]
     },
     "execution_count": 38,
     "metadata": {},
     "output_type": "execute_result"
    }
   ],
   "source": [
    "response[1].content"
   ]
  },
  {
   "cell_type": "code",
   "execution_count": 39,
   "metadata": {},
   "outputs": [
    {
     "ename": "IndexError",
     "evalue": "list index out of range",
     "output_type": "error",
     "traceback": [
      "\u001b[0;31m---------------------------------------------------------------------------\u001b[0m",
      "\u001b[0;31mIndexError\u001b[0m                                Traceback (most recent call last)",
      "Cell \u001b[0;32mIn[39], line 1\u001b[0m\n\u001b[0;32m----> 1\u001b[0m \u001b[43mresponse\u001b[49m\u001b[43m[\u001b[49m\u001b[38;5;241;43m2\u001b[39;49m\u001b[43m]\u001b[49m\u001b[38;5;241m.\u001b[39mcontent\n",
      "\u001b[0;31mIndexError\u001b[0m: list index out of range"
     ]
    }
   ],
   "source": [
    "response[2].content"
   ]
  },
  {
   "cell_type": "raw",
   "metadata": {},
   "source": []
  }
 ],
 "metadata": {
  "kernelspec": {
   "display_name": "Python 3 (ipykernel)",
   "language": "python",
   "name": "python3"
  },
  "language_info": {
   "codemirror_mode": {
    "name": "ipython",
    "version": 3
   },
   "file_extension": ".py",
   "mimetype": "text/x-python",
   "name": "python",
   "nbconvert_exporter": "python",
   "pygments_lexer": "ipython3",
   "version": "3.12.8"
  },
  "prev_pub_hash": "1893c8e00bcf2d7b210b489875bf3855983e443d9e2ef23b5169ddfa7f2560a2"
 },
 "nbformat": 4,
 "nbformat_minor": 4
}
