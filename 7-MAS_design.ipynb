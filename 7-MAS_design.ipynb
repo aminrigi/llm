{
 "cells": [
  {
   "cell_type": "code",
   "execution_count": null,
   "id": "b4a29c1b",
   "metadata": {},
   "outputs": [],
   "source": []
  },
  {
   "cell_type": "markdown",
   "id": "d6f3825d",
   "metadata": {},
   "source": []
  }
 ],
 "metadata": {
  "language_info": {
   "name": "python"
  }
 },
 "nbformat": 4,
 "nbformat_minor": 5
}
